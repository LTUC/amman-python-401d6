{
 "cells": [
  {
   "cell_type": "markdown",
   "metadata": {},
   "source": [
    "# Files in Python"
   ]
  },
  {
   "cell_type": "code",
   "execution_count": null,
   "metadata": {},
   "outputs": [],
   "source": [
    "file = open('assets/spam.txt')\n",
    "print(file)"
   ]
  },
  {
   "cell_type": "code",
   "execution_count": null,
   "metadata": {},
   "outputs": [],
   "source": [
    "contents = file.read()\n",
    "contents"
   ]
  },
  {
   "cell_type": "code",
   "execution_count": null,
   "metadata": {},
   "outputs": [],
   "source": [
    "print(contents)"
   ]
  },
  {
   "cell_type": "markdown",
   "metadata": {},
   "source": [
    "## Closing the file"
   ]
  },
  {
   "cell_type": "code",
   "execution_count": null,
   "metadata": {},
   "outputs": [],
   "source": [
    "# The file is still \"open\"\n",
    "print('Is file closed?', file.closed)"
   ]
  },
  {
   "cell_type": "code",
   "execution_count": null,
   "metadata": {},
   "outputs": [],
   "source": [
    "# let's explicitly close it\n",
    "file.close()\n",
    "print('Is file closed?', file.closed)"
   ]
  },
  {
   "cell_type": "markdown",
   "metadata": {},
   "source": [
    "- often you don't need to worry about closing the file since Python usually handles that.\n",
    "- but words like 'often' and 'usually' are a programmers constant foe\n",
    "- fortunately, there's an easy way to make sure that it always gets closed up properly\n"
   ]
  },
  {
   "cell_type": "code",
   "execution_count": null,
   "metadata": {},
   "outputs": [],
   "source": [
    "with open('assets/spam.txt') as file:\n",
    "    print(file.read())\n",
    "\n",
    "print('file is closed?', file.closed)"
   ]
  },
  {
   "cell_type": "markdown",
   "metadata": {},
   "source": [
    "- That `with` key word there creates something called a `context manager`\n",
    "- They are a more advanced topic, but you'll see them used a lot with files because they are so dang handy"
   ]
  },
  {
   "cell_type": "markdown",
   "metadata": {},
   "source": [
    "## Quick documentation with `help` and `dir`\n",
    "- You can see the attributes of file object easy enough"
   ]
  },
  {
   "cell_type": "code",
   "execution_count": null,
   "metadata": {},
   "outputs": [],
   "source": [
    "help(file)"
   ]
  },
  {
   "cell_type": "code",
   "execution_count": null,
   "metadata": {},
   "outputs": [],
   "source": [
    "dir(file)"
   ]
  },
  {
   "cell_type": "markdown",
   "metadata": {},
   "source": [
    "## File modes\n",
    "\n",
    "- When you open a file you supply a 'mode' - the default mode is 'r' for 'read'\n",
    "- so `open('somefile.txt')` is the same as `open('somefile.txt','r')`\n",
    "- You pretty much have to memorize the modes\n",
    "- Luckilly there aren't that many. Here are the most popular\n",
    "    - r for read\n",
    "    - w for write\n",
    "    - a for append"
   ]
  },
  {
   "cell_type": "code",
   "execution_count": null,
   "metadata": {},
   "outputs": [],
   "source": [
    "help(open)"
   ]
  },
  {
   "cell_type": "code",
   "execution_count": null,
   "metadata": {},
   "outputs": [],
   "source": [
    "with open('assets/brain.jpg', 'rb') as f:\n",
    "    contents = f.read()\n",
    "\n",
    "for x in contents[:128]:\n",
    "    print(type(contents))\n",
    "\n",
    "with open('assets/brain.copy.jpg', 'wb') as f2:\n",
    "    f2.write(contents)"
   ]
  },
  {
   "cell_type": "code",
   "execution_count": null,
   "metadata": {},
   "outputs": [],
   "source": []
  },
  {
   "cell_type": "code",
   "execution_count": null,
   "metadata": {},
   "outputs": [],
   "source": []
  }
 ],
 "metadata": {
  "language_info": {
   "codemirror_mode": {
    "name": "ipython",
    "version": 3
   },
   "file_extension": ".py",
   "mimetype": "text/x-python",
   "name": "python",
   "nbconvert_exporter": "python",
   "pygments_lexer": "ipython3",
   "version": "3.8.7"
  },
  "orig_nbformat": 2,
  "kernelspec": {
   "name": "pythonjvsc74a57bd0c7b68b4fa21fd36c31e3dc1e39cbf79068c29b779150f79dd711bef40fb34e8b",
   "display_name": "Python 3.8.7 64-bit ('.venv': venv)"
  },
  "metadata": {
   "interpreter": {
    "hash": "c7b68b4fa21fd36c31e3dc1e39cbf79068c29b779150f79dd711bef40fb34e8b"
   }
  }
 },
 "nbformat": 4,
 "nbformat_minor": 2
}