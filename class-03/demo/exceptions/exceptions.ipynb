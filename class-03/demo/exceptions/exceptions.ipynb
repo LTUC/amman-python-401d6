{
 "cells": [
  {
   "cell_type": "markdown",
   "metadata": {},
   "source": [
    "# Fun with Exceptions"
   ]
  },
  {
   "cell_type": "markdown",
   "metadata": {},
   "source": [
    "Exceptions handle errors that you can't know about until running the application\n",
    "\n",
    "They are different than errors that are known about in advance"
   ]
  },
  {
   "cell_type": "code",
   "execution_count": null,
   "metadata": {},
   "outputs": [],
   "source": [
    "print(\"let's do something totally wrong. See if you can spot me in the output!\")\n",
    "print(\"Too many parentheses\"))"
   ]
  },
  {
   "cell_type": "code",
   "execution_count": null,
   "metadata": {},
   "outputs": [],
   "source": [
    "print(\"More wrongness. Do I get printed?\")\n",
    "print(\"Who has ever \"messed up\" quotations marks?\")"
   ]
  },
  {
   "cell_type": "markdown",
   "metadata": {},
   "source": [
    "Notice how both failed to execute AND didn't show the initial print.\n",
    "\n",
    "That's what happens with syntax errors.\n",
    "\n",
    "But how about logical errors that ARE syntactically correct?"
   ]
  },
  {
   "cell_type": "code",
   "execution_count": null,
   "metadata": {},
   "outputs": [],
   "source": [
    "print(\"What happens now? Do you see me printed?\")\n",
    "value = 1/0"
   ]
  },
  {
   "cell_type": "markdown",
   "metadata": {},
   "source": [
    "Got a ZeroDivisionError at runtime\n",
    "\n",
    "Notice intial print DID display this time\n",
    "\n",
    "Check out the error\n",
    "\n",
    "Getting a descriptive error is good\n",
    "\n",
    "WAY better than getting a non-descriptive or even non-existent one\n",
    "\n",
    "So always pay attention to anything an error is telling you"
   ]
  },
  {
   "cell_type": "code",
   "execution_count": null,
   "metadata": {},
   "outputs": [],
   "source": [
    "# You can handle these errors in your code\n",
    "\n",
    "try:\n",
    "    print(\"Divide by zero again\", 1 / 0)\n",
    "except ZeroDivisionError:\n",
    "    print(\"Don't divide by zero silly.\")\n",
    "\n",
    "print(\"handled the exception above, carrying on\")"
   ]
  },
  {
   "cell_type": "markdown",
   "metadata": {},
   "source": [
    "Notice that we \"caught\" a specific exception.\n",
    "It is a best practice to only catch specific exceptions\n",
    "\n",
    "To put it another way\n",
    "it is a VERY BAD THING to catch generic exceptions\n",
    "Here is why that's considered an anti-pattern\n",
    "\n"
   ]
  },
  {
   "cell_type": "code",
   "execution_count": null,
   "metadata": {},
   "outputs": [],
   "source": [
    "try:\n",
    "    print(\"Divide by zero again\", 1 / \"spam\")\n",
    "except:\n",
    "    print(\"Don't divide by zero silly.\")\n",
    "\n",
    "print(\"Total lie!. The problem was not dividing by zero. It was a type error\")"
   ]
  },
  {
   "cell_type": "code",
   "execution_count": null,
   "metadata": {},
   "outputs": [],
   "source": [
    "# variation on previous step\n",
    "\n",
    "try:\n",
    "    print(\"Divide by zero again\", 1 / \"spam\")\n",
    "except Exception:\n",
    "    print(\"Don't divide by zero silly.\")\n",
    "\n",
    "print(\"Still wrong. Handling the base Exception is a 'catch all'\")"
   ]
  },
  {
   "cell_type": "markdown",
   "metadata": {},
   "source": [
    "If you must handle every exception then make sure to retain the relevant error info.\n",
    "\n",
    "For example, you may have requirement that end user never sees a program error.\n",
    "\n",
    "In that case make sure to log/record the error details and then present something more palatable to end user"
   ]
  },
  {
   "cell_type": "code",
   "execution_count": null,
   "metadata": {},
   "outputs": [],
   "source": [
    "try:\n",
    "    spam = \"nonsense\" / 42\n",
    "except ZeroDivisionError:\n",
    "    print(\"Don't divide by zero silly.\")\n",
    "except Exception as e:  # notice we can refer to the exception using 'as'\n",
    "    # log the exception somewhere, probably including the stack trace\n",
    "    print(\"So sorry end user. Something broke!\")"
   ]
  },
  {
   "cell_type": "markdown",
   "metadata": {},
   "source": [
    "Python also allows you do a couple more things with exceptions\n",
    "\n",
    "One is an 'else' block which runs when there was NOT an exception\n",
    "This is not that commonly used but every now and then is helpful\n",
    "\n"
   ]
  },
  {
   "cell_type": "code",
   "execution_count": null,
   "metadata": {},
   "outputs": [],
   "source": [
    "print(\"Attempting to create message\")\n",
    "try:\n",
    "    message = \"nothing\" + \"wrong\" + \"here\"\n",
    "except TypeError:\n",
    "    print(\"Unable to create message\")\n",
    "else:\n",
    "    print(\"Message successfully created\")"
   ]
  },
  {
   "cell_type": "markdown",
   "metadata": {},
   "source": [
    "The last piece is the 'finally' block which is run no matter what happened"
   ]
  },
  {
   "cell_type": "code",
   "execution_count": null,
   "metadata": {},
   "outputs": [],
   "source": [
    "print(\"prepare for breakage\")\n",
    "\n",
    "try:\n",
    "    value = True + \" nonsense\"  # change to str(True) and see what happens\n",
    "except TypeError as e:\n",
    "    print(f\"Something broke! Details: {e}\")\n",
    "else:\n",
    "    print(f\"smooth sailing. value is {value}\")\n",
    "finally:\n",
    "    print(\"clean up mess as needed\")"
   ]
  },
  {
   "cell_type": "markdown",
   "metadata": {},
   "source": [
    "you can raise exceptions intentionally as well"
   ]
  },
  {
   "cell_type": "markdown",
   "metadata": {},
   "source": [
    "If there's no better choice can use the Generic Exception"
   ]
  },
  {
   "cell_type": "markdown",
   "metadata": {},
   "source": [
    "It's a best practice to choose the most appropriate type of Error"
   ]
  },
  {
   "cell_type": "code",
   "execution_count": null,
   "metadata": {},
   "outputs": [],
   "source": [
    "age = -10\n",
    "\n",
    "if age < 0:\n",
    "    raise ValueError(\"Invalid age - must be greater than or equal to zero\")"
   ]
  },
  {
   "cell_type": "code",
   "execution_count": null,
   "metadata": {},
   "outputs": [],
   "source": [
    "raise Exception(\"Something bad happened\")"
   ]
  },
  {
   "cell_type": "markdown",
   "metadata": {},
   "source": [
    "You can also create your own Exception types.\n",
    "\n",
    "This will make more sense when we cover Classes next session\n",
    "\n",
    "but here's a sneak peek\n",
    "\n"
   ]
  },
  {
   "cell_type": "code",
   "execution_count": null,
   "metadata": {},
   "outputs": [],
   "source": [
    "\n",
    "class SocialDistanceError(Exception):\n",
    "    def __init__(self, distance):\n",
    "        super().__init__(f\"Stay 6 feet away, not {distance}\")\n",
    "\n",
    "\n",
    "distance_feet = 4\n",
    "\n",
    "if distance_feet < 6:\n",
    "    raise SocialDistanceError(distance_feet)\n"
   ]
  },
  {
   "cell_type": "code",
   "execution_count": null,
   "metadata": {},
   "outputs": [],
   "source": []
  }
 ],
 "metadata": {
  "language_info": {
   "name": "python",
   "codemirror_mode": {
    "name": "ipython",
    "version": 3
   },
   "version": "3.8.7"
  },
  "orig_nbformat": 2,
  "file_extension": ".py",
  "mimetype": "text/x-python",
  "name": "python",
  "npconvert_exporter": "python",
  "pygments_lexer": "ipython3",
  "version": 3,
  "kernelspec": {
   "name": "pythonjvsc74a57bd0bfabafca19c30c34841f4f4627eafe9516dc7ee5bc5eb247d58cb81b4207e50c",
   "display_name": "Python 3.8.7 64-bit ('.venv': venv)"
  },
  "metadata": {
   "interpreter": {
    "hash": "bfabafca19c30c34841f4f4627eafe9516dc7ee5bc5eb247d58cb81b4207e50c"
   }
  }
 },
 "nbformat": 4,
 "nbformat_minor": 2
}