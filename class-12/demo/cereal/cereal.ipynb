{
 "cells": [
  {
   "cell_type": "markdown",
   "metadata": {},
   "source": [
    "# Cereal Analysis"
   ]
  },
  {
   "cell_type": "code",
   "execution_count": 1,
   "metadata": {},
   "outputs": [],
   "source": [
    "import pandas as pd"
   ]
  },
  {
   "cell_type": "code",
   "execution_count": 2,
   "metadata": {},
   "outputs": [
    {
     "output_type": "stream",
     "name": "stdout",
     "text": [
      "<class 'pandas.core.frame.DataFrame'>\nRangeIndex: 77 entries, 0 to 76\nData columns (total 16 columns):\n #   Column    Non-Null Count  Dtype  \n---  ------    --------------  -----  \n 0   name      77 non-null     object \n 1   mfr       77 non-null     object \n 2   type      77 non-null     object \n 3   calories  77 non-null     int64  \n 4   protein   77 non-null     int64  \n 5   fat       77 non-null     int64  \n 6   sodium    77 non-null     int64  \n 7   fiber     77 non-null     float64\n 8   carbo     77 non-null     float64\n 9   sugars    77 non-null     int64  \n 10  potass    77 non-null     int64  \n 11  vitamins  77 non-null     int64  \n 12  shelf     77 non-null     int64  \n 13  weight    77 non-null     float64\n 14  cups      77 non-null     float64\n 15  rating    77 non-null     float64\ndtypes: float64(5), int64(8), object(3)\nmemory usage: 9.8+ KB\n"
     ]
    }
   ],
   "source": [
    "# data from https://www.kaggle.com/crawford/80-cereals\n",
    "df = pd.read_csv('./cereal.csv')\n",
    "df.info()"
   ]
  },
  {
   "cell_type": "code",
   "execution_count": 3,
   "metadata": {},
   "outputs": [
    {
     "output_type": "execute_result",
     "data": {
      "text/plain": [
       "                   name mfr type  calories  protein  fat  sodium  fiber  \\\n",
       "72              Triples   G    C       110        2    1     250    0.0   \n",
       "73                 Trix   G    C       110        1    1     140    0.0   \n",
       "74           Wheat Chex   R    C       100        3    1     230    3.0   \n",
       "75             Wheaties   G    C       100        3    1     200    3.0   \n",
       "76  Wheaties Honey Gold   G    C       110        2    1     200    1.0   \n",
       "\n",
       "    carbo  sugars  potass  vitamins  shelf  weight  cups     rating  \n",
       "72   21.0       3      60        25      3     1.0  0.75  39.106174  \n",
       "73   13.0      12      25        25      2     1.0  1.00  27.753301  \n",
       "74   17.0       3     115        25      1     1.0  0.67  49.787445  \n",
       "75   17.0       3     110        25      1     1.0  1.00  51.592193  \n",
       "76   16.0       8      60        25      1     1.0  0.75  36.187559  "
      ],
      "text/html": "<div>\n<style scoped>\n    .dataframe tbody tr th:only-of-type {\n        vertical-align: middle;\n    }\n\n    .dataframe tbody tr th {\n        vertical-align: top;\n    }\n\n    .dataframe thead th {\n        text-align: right;\n    }\n</style>\n<table border=\"1\" class=\"dataframe\">\n  <thead>\n    <tr style=\"text-align: right;\">\n      <th></th>\n      <th>name</th>\n      <th>mfr</th>\n      <th>type</th>\n      <th>calories</th>\n      <th>protein</th>\n      <th>fat</th>\n      <th>sodium</th>\n      <th>fiber</th>\n      <th>carbo</th>\n      <th>sugars</th>\n      <th>potass</th>\n      <th>vitamins</th>\n      <th>shelf</th>\n      <th>weight</th>\n      <th>cups</th>\n      <th>rating</th>\n    </tr>\n  </thead>\n  <tbody>\n    <tr>\n      <th>72</th>\n      <td>Triples</td>\n      <td>G</td>\n      <td>C</td>\n      <td>110</td>\n      <td>2</td>\n      <td>1</td>\n      <td>250</td>\n      <td>0.0</td>\n      <td>21.0</td>\n      <td>3</td>\n      <td>60</td>\n      <td>25</td>\n      <td>3</td>\n      <td>1.0</td>\n      <td>0.75</td>\n      <td>39.106174</td>\n    </tr>\n    <tr>\n      <th>73</th>\n      <td>Trix</td>\n      <td>G</td>\n      <td>C</td>\n      <td>110</td>\n      <td>1</td>\n      <td>1</td>\n      <td>140</td>\n      <td>0.0</td>\n      <td>13.0</td>\n      <td>12</td>\n      <td>25</td>\n      <td>25</td>\n      <td>2</td>\n      <td>1.0</td>\n      <td>1.00</td>\n      <td>27.753301</td>\n    </tr>\n    <tr>\n      <th>74</th>\n      <td>Wheat Chex</td>\n      <td>R</td>\n      <td>C</td>\n      <td>100</td>\n      <td>3</td>\n      <td>1</td>\n      <td>230</td>\n      <td>3.0</td>\n      <td>17.0</td>\n      <td>3</td>\n      <td>115</td>\n      <td>25</td>\n      <td>1</td>\n      <td>1.0</td>\n      <td>0.67</td>\n      <td>49.787445</td>\n    </tr>\n    <tr>\n      <th>75</th>\n      <td>Wheaties</td>\n      <td>G</td>\n      <td>C</td>\n      <td>100</td>\n      <td>3</td>\n      <td>1</td>\n      <td>200</td>\n      <td>3.0</td>\n      <td>17.0</td>\n      <td>3</td>\n      <td>110</td>\n      <td>25</td>\n      <td>1</td>\n      <td>1.0</td>\n      <td>1.00</td>\n      <td>51.592193</td>\n    </tr>\n    <tr>\n      <th>76</th>\n      <td>Wheaties Honey Gold</td>\n      <td>G</td>\n      <td>C</td>\n      <td>110</td>\n      <td>2</td>\n      <td>1</td>\n      <td>200</td>\n      <td>1.0</td>\n      <td>16.0</td>\n      <td>8</td>\n      <td>60</td>\n      <td>25</td>\n      <td>1</td>\n      <td>1.0</td>\n      <td>0.75</td>\n      <td>36.187559</td>\n    </tr>\n  </tbody>\n</table>\n</div>"
     },
     "metadata": {},
     "execution_count": 3
    }
   ],
   "source": [
    "df.tail()"
   ]
  },
  {
   "cell_type": "code",
   "execution_count": 4,
   "metadata": {},
   "outputs": [
    {
     "output_type": "execute_result",
     "data": {
      "text/plain": [
       "0                     100% Bran\n",
       "1             100% Natural Bran\n",
       "2                      All-Bran\n",
       "3     All-Bran with Extra Fiber\n",
       "4                Almond Delight\n",
       "                ...            \n",
       "72                      Triples\n",
       "73                         Trix\n",
       "74                   Wheat Chex\n",
       "75                     Wheaties\n",
       "76          Wheaties Honey Gold\n",
       "Name: name, Length: 77, dtype: object"
      ]
     },
     "metadata": {},
     "execution_count": 4
    }
   ],
   "source": [
    "# filter by column names\n",
    "df[\"name\"]"
   ]
  },
  {
   "cell_type": "code",
   "execution_count": 5,
   "metadata": {},
   "outputs": [
    {
     "output_type": "execute_result",
     "data": {
      "text/plain": [
       "                          mfr type  calories  protein  fat  sodium  fiber  \\\n",
       "name                                                                        \n",
       "100% Bran                   N    C        70        4    1     130   10.0   \n",
       "100% Natural Bran           Q    C       120        3    5      15    2.0   \n",
       "All-Bran                    K    C        70        4    1     260    9.0   \n",
       "All-Bran with Extra Fiber   K    C        50        4    0     140   14.0   \n",
       "Almond Delight              R    C       110        2    2     200    1.0   \n",
       "...                        ..  ...       ...      ...  ...     ...    ...   \n",
       "Triples                     G    C       110        2    1     250    0.0   \n",
       "Trix                        G    C       110        1    1     140    0.0   \n",
       "Wheat Chex                  R    C       100        3    1     230    3.0   \n",
       "Wheaties                    G    C       100        3    1     200    3.0   \n",
       "Wheaties Honey Gold         G    C       110        2    1     200    1.0   \n",
       "\n",
       "                           carbo  sugars  potass  vitamins  shelf  weight  \\\n",
       "name                                                                        \n",
       "100% Bran                    5.0       6     280        25      3     1.0   \n",
       "100% Natural Bran            8.0       8     135         0      3     1.0   \n",
       "All-Bran                     7.0       5     320        25      3     1.0   \n",
       "All-Bran with Extra Fiber    8.0       0     330        25      3     1.0   \n",
       "Almond Delight              14.0       8      -1        25      3     1.0   \n",
       "...                          ...     ...     ...       ...    ...     ...   \n",
       "Triples                     21.0       3      60        25      3     1.0   \n",
       "Trix                        13.0      12      25        25      2     1.0   \n",
       "Wheat Chex                  17.0       3     115        25      1     1.0   \n",
       "Wheaties                    17.0       3     110        25      1     1.0   \n",
       "Wheaties Honey Gold         16.0       8      60        25      1     1.0   \n",
       "\n",
       "                           cups     rating  \n",
       "name                                        \n",
       "100% Bran                  0.33  68.402973  \n",
       "100% Natural Bran          1.00  33.983679  \n",
       "All-Bran                   0.33  59.425505  \n",
       "All-Bran with Extra Fiber  0.50  93.704912  \n",
       "Almond Delight             0.75  34.384843  \n",
       "...                         ...        ...  \n",
       "Triples                    0.75  39.106174  \n",
       "Trix                       1.00  27.753301  \n",
       "Wheat Chex                 0.67  49.787445  \n",
       "Wheaties                   1.00  51.592193  \n",
       "Wheaties Honey Gold        0.75  36.187559  \n",
       "\n",
       "[77 rows x 15 columns]"
      ],
      "text/html": "<div>\n<style scoped>\n    .dataframe tbody tr th:only-of-type {\n        vertical-align: middle;\n    }\n\n    .dataframe tbody tr th {\n        vertical-align: top;\n    }\n\n    .dataframe thead th {\n        text-align: right;\n    }\n</style>\n<table border=\"1\" class=\"dataframe\">\n  <thead>\n    <tr style=\"text-align: right;\">\n      <th></th>\n      <th>mfr</th>\n      <th>type</th>\n      <th>calories</th>\n      <th>protein</th>\n      <th>fat</th>\n      <th>sodium</th>\n      <th>fiber</th>\n      <th>carbo</th>\n      <th>sugars</th>\n      <th>potass</th>\n      <th>vitamins</th>\n      <th>shelf</th>\n      <th>weight</th>\n      <th>cups</th>\n      <th>rating</th>\n    </tr>\n    <tr>\n      <th>name</th>\n      <th></th>\n      <th></th>\n      <th></th>\n      <th></th>\n      <th></th>\n      <th></th>\n      <th></th>\n      <th></th>\n      <th></th>\n      <th></th>\n      <th></th>\n      <th></th>\n      <th></th>\n      <th></th>\n      <th></th>\n    </tr>\n  </thead>\n  <tbody>\n    <tr>\n      <th>100% Bran</th>\n      <td>N</td>\n      <td>C</td>\n      <td>70</td>\n      <td>4</td>\n      <td>1</td>\n      <td>130</td>\n      <td>10.0</td>\n      <td>5.0</td>\n      <td>6</td>\n      <td>280</td>\n      <td>25</td>\n      <td>3</td>\n      <td>1.0</td>\n      <td>0.33</td>\n      <td>68.402973</td>\n    </tr>\n    <tr>\n      <th>100% Natural Bran</th>\n      <td>Q</td>\n      <td>C</td>\n      <td>120</td>\n      <td>3</td>\n      <td>5</td>\n      <td>15</td>\n      <td>2.0</td>\n      <td>8.0</td>\n      <td>8</td>\n      <td>135</td>\n      <td>0</td>\n      <td>3</td>\n      <td>1.0</td>\n      <td>1.00</td>\n      <td>33.983679</td>\n    </tr>\n    <tr>\n      <th>All-Bran</th>\n      <td>K</td>\n      <td>C</td>\n      <td>70</td>\n      <td>4</td>\n      <td>1</td>\n      <td>260</td>\n      <td>9.0</td>\n      <td>7.0</td>\n      <td>5</td>\n      <td>320</td>\n      <td>25</td>\n      <td>3</td>\n      <td>1.0</td>\n      <td>0.33</td>\n      <td>59.425505</td>\n    </tr>\n    <tr>\n      <th>All-Bran with Extra Fiber</th>\n      <td>K</td>\n      <td>C</td>\n      <td>50</td>\n      <td>4</td>\n      <td>0</td>\n      <td>140</td>\n      <td>14.0</td>\n      <td>8.0</td>\n      <td>0</td>\n      <td>330</td>\n      <td>25</td>\n      <td>3</td>\n      <td>1.0</td>\n      <td>0.50</td>\n      <td>93.704912</td>\n    </tr>\n    <tr>\n      <th>Almond Delight</th>\n      <td>R</td>\n      <td>C</td>\n      <td>110</td>\n      <td>2</td>\n      <td>2</td>\n      <td>200</td>\n      <td>1.0</td>\n      <td>14.0</td>\n      <td>8</td>\n      <td>-1</td>\n      <td>25</td>\n      <td>3</td>\n      <td>1.0</td>\n      <td>0.75</td>\n      <td>34.384843</td>\n    </tr>\n    <tr>\n      <th>...</th>\n      <td>...</td>\n      <td>...</td>\n      <td>...</td>\n      <td>...</td>\n      <td>...</td>\n      <td>...</td>\n      <td>...</td>\n      <td>...</td>\n      <td>...</td>\n      <td>...</td>\n      <td>...</td>\n      <td>...</td>\n      <td>...</td>\n      <td>...</td>\n      <td>...</td>\n    </tr>\n    <tr>\n      <th>Triples</th>\n      <td>G</td>\n      <td>C</td>\n      <td>110</td>\n      <td>2</td>\n      <td>1</td>\n      <td>250</td>\n      <td>0.0</td>\n      <td>21.0</td>\n      <td>3</td>\n      <td>60</td>\n      <td>25</td>\n      <td>3</td>\n      <td>1.0</td>\n      <td>0.75</td>\n      <td>39.106174</td>\n    </tr>\n    <tr>\n      <th>Trix</th>\n      <td>G</td>\n      <td>C</td>\n      <td>110</td>\n      <td>1</td>\n      <td>1</td>\n      <td>140</td>\n      <td>0.0</td>\n      <td>13.0</td>\n      <td>12</td>\n      <td>25</td>\n      <td>25</td>\n      <td>2</td>\n      <td>1.0</td>\n      <td>1.00</td>\n      <td>27.753301</td>\n    </tr>\n    <tr>\n      <th>Wheat Chex</th>\n      <td>R</td>\n      <td>C</td>\n      <td>100</td>\n      <td>3</td>\n      <td>1</td>\n      <td>230</td>\n      <td>3.0</td>\n      <td>17.0</td>\n      <td>3</td>\n      <td>115</td>\n      <td>25</td>\n      <td>1</td>\n      <td>1.0</td>\n      <td>0.67</td>\n      <td>49.787445</td>\n    </tr>\n    <tr>\n      <th>Wheaties</th>\n      <td>G</td>\n      <td>C</td>\n      <td>100</td>\n      <td>3</td>\n      <td>1</td>\n      <td>200</td>\n      <td>3.0</td>\n      <td>17.0</td>\n      <td>3</td>\n      <td>110</td>\n      <td>25</td>\n      <td>1</td>\n      <td>1.0</td>\n      <td>1.00</td>\n      <td>51.592193</td>\n    </tr>\n    <tr>\n      <th>Wheaties Honey Gold</th>\n      <td>G</td>\n      <td>C</td>\n      <td>110</td>\n      <td>2</td>\n      <td>1</td>\n      <td>200</td>\n      <td>1.0</td>\n      <td>16.0</td>\n      <td>8</td>\n      <td>60</td>\n      <td>25</td>\n      <td>1</td>\n      <td>1.0</td>\n      <td>0.75</td>\n      <td>36.187559</td>\n    </tr>\n  </tbody>\n</table>\n<p>77 rows × 15 columns</p>\n</div>"
     },
     "metadata": {},
     "execution_count": 5
    }
   ],
   "source": [
    "df.set_index(\"name\")"
   ]
  },
  {
   "cell_type": "code",
   "execution_count": 6,
   "metadata": {},
   "outputs": [
    {
     "output_type": "execute_result",
     "data": {
      "text/plain": [
       "                        name mfr\n",
       "0                  100% Bran   N\n",
       "1          100% Natural Bran   Q\n",
       "2                   All-Bran   K\n",
       "3  All-Bran with Extra Fiber   K\n",
       "4             Almond Delight   R"
      ],
      "text/html": "<div>\n<style scoped>\n    .dataframe tbody tr th:only-of-type {\n        vertical-align: middle;\n    }\n\n    .dataframe tbody tr th {\n        vertical-align: top;\n    }\n\n    .dataframe thead th {\n        text-align: right;\n    }\n</style>\n<table border=\"1\" class=\"dataframe\">\n  <thead>\n    <tr style=\"text-align: right;\">\n      <th></th>\n      <th>name</th>\n      <th>mfr</th>\n    </tr>\n  </thead>\n  <tbody>\n    <tr>\n      <th>0</th>\n      <td>100% Bran</td>\n      <td>N</td>\n    </tr>\n    <tr>\n      <th>1</th>\n      <td>100% Natural Bran</td>\n      <td>Q</td>\n    </tr>\n    <tr>\n      <th>2</th>\n      <td>All-Bran</td>\n      <td>K</td>\n    </tr>\n    <tr>\n      <th>3</th>\n      <td>All-Bran with Extra Fiber</td>\n      <td>K</td>\n    </tr>\n    <tr>\n      <th>4</th>\n      <td>Almond Delight</td>\n      <td>R</td>\n    </tr>\n  </tbody>\n</table>\n</div>"
     },
     "metadata": {},
     "execution_count": 6
    }
   ],
   "source": [
    "df[[\"name\",\"mfr\"]].head()"
   ]
  },
  {
   "cell_type": "code",
   "execution_count": 7,
   "metadata": {},
   "outputs": [
    {
     "output_type": "execute_result",
     "data": {
      "text/plain": [
       "                         name     rating  sugars\n",
       "3   All-Bran with Extra Fiber  93.704912       0\n",
       "64     Shredded Wheat 'n'Bran  74.472949       0\n",
       "65  Shredded Wheat spoon size  72.801787       0\n",
       "0                   100% Bran  68.402973       6\n",
       "63             Shredded Wheat  68.235885       0\n",
       "..                        ...        ...     ...\n",
       "14                Cocoa Puffs  22.736446      13\n",
       "18              Count Chocula  22.396513      13\n",
       "35           Honey Graham Ohs  21.871292      11\n",
       "12      Cinnamon Toast Crunch  19.823573       9\n",
       "10               Cap'n'Crunch  18.042851      12\n",
       "\n",
       "[77 rows x 3 columns]"
      ],
      "text/html": "<div>\n<style scoped>\n    .dataframe tbody tr th:only-of-type {\n        vertical-align: middle;\n    }\n\n    .dataframe tbody tr th {\n        vertical-align: top;\n    }\n\n    .dataframe thead th {\n        text-align: right;\n    }\n</style>\n<table border=\"1\" class=\"dataframe\">\n  <thead>\n    <tr style=\"text-align: right;\">\n      <th></th>\n      <th>name</th>\n      <th>rating</th>\n      <th>sugars</th>\n    </tr>\n  </thead>\n  <tbody>\n    <tr>\n      <th>3</th>\n      <td>All-Bran with Extra Fiber</td>\n      <td>93.704912</td>\n      <td>0</td>\n    </tr>\n    <tr>\n      <th>64</th>\n      <td>Shredded Wheat 'n'Bran</td>\n      <td>74.472949</td>\n      <td>0</td>\n    </tr>\n    <tr>\n      <th>65</th>\n      <td>Shredded Wheat spoon size</td>\n      <td>72.801787</td>\n      <td>0</td>\n    </tr>\n    <tr>\n      <th>0</th>\n      <td>100% Bran</td>\n      <td>68.402973</td>\n      <td>6</td>\n    </tr>\n    <tr>\n      <th>63</th>\n      <td>Shredded Wheat</td>\n      <td>68.235885</td>\n      <td>0</td>\n    </tr>\n    <tr>\n      <th>...</th>\n      <td>...</td>\n      <td>...</td>\n      <td>...</td>\n    </tr>\n    <tr>\n      <th>14</th>\n      <td>Cocoa Puffs</td>\n      <td>22.736446</td>\n      <td>13</td>\n    </tr>\n    <tr>\n      <th>18</th>\n      <td>Count Chocula</td>\n      <td>22.396513</td>\n      <td>13</td>\n    </tr>\n    <tr>\n      <th>35</th>\n      <td>Honey Graham Ohs</td>\n      <td>21.871292</td>\n      <td>11</td>\n    </tr>\n    <tr>\n      <th>12</th>\n      <td>Cinnamon Toast Crunch</td>\n      <td>19.823573</td>\n      <td>9</td>\n    </tr>\n    <tr>\n      <th>10</th>\n      <td>Cap'n'Crunch</td>\n      <td>18.042851</td>\n      <td>12</td>\n    </tr>\n  </tbody>\n</table>\n<p>77 rows × 3 columns</p>\n</div>"
     },
     "metadata": {},
     "execution_count": 7
    }
   ],
   "source": [
    "df[['name','rating','sugars']].sort_values('rating', ascending=False)"
   ]
  },
  {
   "cell_type": "markdown",
   "metadata": {},
   "source": [
    "# Find average sodium"
   ]
  },
  {
   "cell_type": "code",
   "execution_count": 8,
   "metadata": {},
   "outputs": [
    {
     "output_type": "execute_result",
     "data": {
      "text/plain": [
       "sodium    159.675325\n",
       "dtype: float64"
      ]
     },
     "metadata": {},
     "execution_count": 8
    }
   ],
   "source": [
    "avg_sodium = df[['sodium']].mean()\n",
    "avg_sodium"
   ]
  },
  {
   "cell_type": "code",
   "execution_count": 9,
   "metadata": {},
   "outputs": [
    {
     "output_type": "execute_result",
     "data": {
      "text/plain": [
       "23.0"
      ]
     },
     "metadata": {},
     "execution_count": 9
    }
   ],
   "source": [
    "max_carbo = df['carbo'].max()\n",
    "max_carbo"
   ]
  },
  {
   "cell_type": "code",
   "execution_count": 10,
   "metadata": {},
   "outputs": [
    {
     "output_type": "execute_result",
     "data": {
      "text/plain": [
       "              name  carbo\n",
       "0        100% Bran    5.0\n",
       "57  Quaker Oatmeal   -1.0"
      ],
      "text/html": "<div>\n<style scoped>\n    .dataframe tbody tr th:only-of-type {\n        vertical-align: middle;\n    }\n\n    .dataframe tbody tr th {\n        vertical-align: top;\n    }\n\n    .dataframe thead th {\n        text-align: right;\n    }\n</style>\n<table border=\"1\" class=\"dataframe\">\n  <thead>\n    <tr style=\"text-align: right;\">\n      <th></th>\n      <th>name</th>\n      <th>carbo</th>\n    </tr>\n  </thead>\n  <tbody>\n    <tr>\n      <th>0</th>\n      <td>100% Bran</td>\n      <td>5.0</td>\n    </tr>\n    <tr>\n      <th>57</th>\n      <td>Quaker Oatmeal</td>\n      <td>-1.0</td>\n    </tr>\n  </tbody>\n</table>\n</div>"
     },
     "metadata": {},
     "execution_count": 10
    }
   ],
   "source": [
    "df[df['carbo'] < 7][['name','carbo']]"
   ]
  },
  {
   "cell_type": "code",
   "execution_count": 11,
   "metadata": {},
   "outputs": [
    {
     "output_type": "execute_result",
     "data": {
      "text/plain": [
       "0    13.0\n",
       "1    15.0\n",
       "dtype: float64"
      ]
     },
     "metadata": {},
     "execution_count": 11
    }
   ],
   "source": [
    "mcc = df['carbo'].mode()\n",
    "mcc"
   ]
  },
  {
   "cell_type": "code",
   "execution_count": 12,
   "metadata": {},
   "outputs": [
    {
     "output_type": "execute_result",
     "data": {
      "text/plain": [
       "                     carbo\n",
       "name                      \n",
       "Almond Delight        14.0\n",
       "Frosted Flakes        14.0\n",
       "Frosted Mini-Wheats   14.0\n",
       "Fruitful Bran         14.0\n",
       "Honey-comb            14.0\n",
       "Quaker Oat Squares    14.0\n",
       "Raisin Bran           14.0"
      ],
      "text/html": "<div>\n<style scoped>\n    .dataframe tbody tr th:only-of-type {\n        vertical-align: middle;\n    }\n\n    .dataframe tbody tr th {\n        vertical-align: top;\n    }\n\n    .dataframe thead th {\n        text-align: right;\n    }\n</style>\n<table border=\"1\" class=\"dataframe\">\n  <thead>\n    <tr style=\"text-align: right;\">\n      <th></th>\n      <th>carbo</th>\n    </tr>\n    <tr>\n      <th>name</th>\n      <th></th>\n    </tr>\n  </thead>\n  <tbody>\n    <tr>\n      <th>Almond Delight</th>\n      <td>14.0</td>\n    </tr>\n    <tr>\n      <th>Frosted Flakes</th>\n      <td>14.0</td>\n    </tr>\n    <tr>\n      <th>Frosted Mini-Wheats</th>\n      <td>14.0</td>\n    </tr>\n    <tr>\n      <th>Fruitful Bran</th>\n      <td>14.0</td>\n    </tr>\n    <tr>\n      <th>Honey-comb</th>\n      <td>14.0</td>\n    </tr>\n    <tr>\n      <th>Quaker Oat Squares</th>\n      <td>14.0</td>\n    </tr>\n    <tr>\n      <th>Raisin Bran</th>\n      <td>14.0</td>\n    </tr>\n  </tbody>\n</table>\n</div>"
     },
     "metadata": {},
     "execution_count": 12
    }
   ],
   "source": [
    "import numpy as np\n",
    "df[df['carbo'] == np.mean(mcc)][['name','carbo']].set_index('name')"
   ]
  },
  {
   "cell_type": "code",
   "execution_count": 13,
   "metadata": {},
   "outputs": [
    {
     "output_type": "execute_result",
     "data": {
      "text/plain": [
       "71.28681250926212"
      ]
     },
     "metadata": {},
     "execution_count": 13
    }
   ],
   "source": [
    "df['potass'].std()"
   ]
  },
  {
   "cell_type": "code",
   "execution_count": 14,
   "metadata": {},
   "outputs": [
    {
     "output_type": "execute_result",
     "data": {
      "text/plain": [
       "     sugars  protein\n",
       "mfr                 \n",
       "A       3.0      4.0\n",
       "G       8.5      2.0\n",
       "K       7.0      3.0\n",
       "N       0.0      3.0\n",
       "P      10.0      3.0\n",
       "Q       6.0      2.5\n",
       "R       5.5      2.0"
      ],
      "text/html": "<div>\n<style scoped>\n    .dataframe tbody tr th:only-of-type {\n        vertical-align: middle;\n    }\n\n    .dataframe tbody tr th {\n        vertical-align: top;\n    }\n\n    .dataframe thead th {\n        text-align: right;\n    }\n</style>\n<table border=\"1\" class=\"dataframe\">\n  <thead>\n    <tr style=\"text-align: right;\">\n      <th></th>\n      <th>sugars</th>\n      <th>protein</th>\n    </tr>\n    <tr>\n      <th>mfr</th>\n      <th></th>\n      <th></th>\n    </tr>\n  </thead>\n  <tbody>\n    <tr>\n      <th>A</th>\n      <td>3.0</td>\n      <td>4.0</td>\n    </tr>\n    <tr>\n      <th>G</th>\n      <td>8.5</td>\n      <td>2.0</td>\n    </tr>\n    <tr>\n      <th>K</th>\n      <td>7.0</td>\n      <td>3.0</td>\n    </tr>\n    <tr>\n      <th>N</th>\n      <td>0.0</td>\n      <td>3.0</td>\n    </tr>\n    <tr>\n      <th>P</th>\n      <td>10.0</td>\n      <td>3.0</td>\n    </tr>\n    <tr>\n      <th>Q</th>\n      <td>6.0</td>\n      <td>2.5</td>\n    </tr>\n    <tr>\n      <th>R</th>\n      <td>5.5</td>\n      <td>2.0</td>\n    </tr>\n  </tbody>\n</table>\n</div>"
     },
     "metadata": {},
     "execution_count": 14
    }
   ],
   "source": [
    "# df[[\"mfr\",\"sugars\",\"protein\"]].groupby(\"mfr\").sum()\n",
    "df[[\"mfr\",\"sugars\",\"protein\"]].groupby(\"mfr\").median()"
   ]
  },
  {
   "source": [
    "Apply a custom function"
   ],
   "cell_type": "markdown",
   "metadata": {}
  },
  {
   "cell_type": "code",
   "execution_count": 15,
   "metadata": {},
   "outputs": [],
   "source": [
    "def manfacturer_name(mfr):\n",
    "    map = {\n",
    "        'A':'A',\n",
    "        'G':'General Mills',\n",
    "        'K': 'Kellogs',\n",
    "        'N': 'Nabisco',\n",
    "        'P': 'P',\n",
    "        'Q': 'Quaker',\n",
    "        'R': 'Ralcorp'\n",
    "    }\n",
    "\n",
    "    return map.get(mfr)"
   ]
  },
  {
   "cell_type": "code",
   "execution_count": 16,
   "metadata": {},
   "outputs": [],
   "source": [
    "df['Manufacturer'] = df['mfr'].apply(manfacturer_name)"
   ]
  },
  {
   "cell_type": "code",
   "execution_count": 17,
   "metadata": {},
   "outputs": [
    {
     "output_type": "execute_result",
     "data": {
      "text/plain": [
       "               sugars  protein\n",
       "Manufacturer                  \n",
       "A                 3.0      4.0\n",
       "General Mills     8.5      2.0\n",
       "Kellogs           7.0      3.0\n",
       "Nabisco           0.0      3.0\n",
       "P                10.0      3.0\n",
       "Quaker            6.0      2.5\n",
       "Ralcorp           5.5      2.0"
      ],
      "text/html": "<div>\n<style scoped>\n    .dataframe tbody tr th:only-of-type {\n        vertical-align: middle;\n    }\n\n    .dataframe tbody tr th {\n        vertical-align: top;\n    }\n\n    .dataframe thead th {\n        text-align: right;\n    }\n</style>\n<table border=\"1\" class=\"dataframe\">\n  <thead>\n    <tr style=\"text-align: right;\">\n      <th></th>\n      <th>sugars</th>\n      <th>protein</th>\n    </tr>\n    <tr>\n      <th>Manufacturer</th>\n      <th></th>\n      <th></th>\n    </tr>\n  </thead>\n  <tbody>\n    <tr>\n      <th>A</th>\n      <td>3.0</td>\n      <td>4.0</td>\n    </tr>\n    <tr>\n      <th>General Mills</th>\n      <td>8.5</td>\n      <td>2.0</td>\n    </tr>\n    <tr>\n      <th>Kellogs</th>\n      <td>7.0</td>\n      <td>3.0</td>\n    </tr>\n    <tr>\n      <th>Nabisco</th>\n      <td>0.0</td>\n      <td>3.0</td>\n    </tr>\n    <tr>\n      <th>P</th>\n      <td>10.0</td>\n      <td>3.0</td>\n    </tr>\n    <tr>\n      <th>Quaker</th>\n      <td>6.0</td>\n      <td>2.5</td>\n    </tr>\n    <tr>\n      <th>Ralcorp</th>\n      <td>5.5</td>\n      <td>2.0</td>\n    </tr>\n  </tbody>\n</table>\n</div>"
     },
     "metadata": {},
     "execution_count": 17
    }
   ],
   "source": [
    "df[[\"Manufacturer\",\"sugars\",\"protein\"]].groupby(\"Manufacturer\").median()"
   ]
  },
  {
   "cell_type": "code",
   "execution_count": 18,
   "metadata": {},
   "outputs": [
    {
     "output_type": "execute_result",
     "data": {
      "text/plain": [
       "     name mfr type  calories  protein  fat  sodium  fiber  carbo  sugars  \\\n",
       "43  Maypo   A    H       100        4    1       0    0.0   16.0       3   \n",
       "\n",
       "    potass  vitamins  shelf  weight  cups     rating Manufacturer  \n",
       "43      95        25      2     1.0   1.0  54.850917            A  "
      ],
      "text/html": "<div>\n<style scoped>\n    .dataframe tbody tr th:only-of-type {\n        vertical-align: middle;\n    }\n\n    .dataframe tbody tr th {\n        vertical-align: top;\n    }\n\n    .dataframe thead th {\n        text-align: right;\n    }\n</style>\n<table border=\"1\" class=\"dataframe\">\n  <thead>\n    <tr style=\"text-align: right;\">\n      <th></th>\n      <th>name</th>\n      <th>mfr</th>\n      <th>type</th>\n      <th>calories</th>\n      <th>protein</th>\n      <th>fat</th>\n      <th>sodium</th>\n      <th>fiber</th>\n      <th>carbo</th>\n      <th>sugars</th>\n      <th>potass</th>\n      <th>vitamins</th>\n      <th>shelf</th>\n      <th>weight</th>\n      <th>cups</th>\n      <th>rating</th>\n      <th>Manufacturer</th>\n    </tr>\n  </thead>\n  <tbody>\n    <tr>\n      <th>43</th>\n      <td>Maypo</td>\n      <td>A</td>\n      <td>H</td>\n      <td>100</td>\n      <td>4</td>\n      <td>1</td>\n      <td>0</td>\n      <td>0.0</td>\n      <td>16.0</td>\n      <td>3</td>\n      <td>95</td>\n      <td>25</td>\n      <td>2</td>\n      <td>1.0</td>\n      <td>1.0</td>\n      <td>54.850917</td>\n      <td>A</td>\n    </tr>\n  </tbody>\n</table>\n</div>"
     },
     "metadata": {},
     "execution_count": 18
    }
   ],
   "source": [
    "df[df['mfr'] == 'A']"
   ]
  },
  {
   "cell_type": "code",
   "execution_count": null,
   "metadata": {},
   "outputs": [],
   "source": []
  }
 ],
 "metadata": {
  "kernelspec": {
   "name": "python3",
   "language": "python",
   "display_name": "Python 3"
  },
  "language_info": {
   "codemirror_mode": {
    "name": "ipython",
    "version": 3
   },
   "file_extension": ".py",
   "mimetype": "text/x-python",
   "name": "python",
   "nbconvert_exporter": "python",
   "pygments_lexer": "ipython3",
   "version": "3.9.0-final"
  }
 },
 "nbformat": 4,
 "nbformat_minor": 4
}