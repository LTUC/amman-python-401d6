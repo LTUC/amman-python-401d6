{
 "cells": [
  {
   "cell_type": "code",
   "execution_count": 3,
   "metadata": {},
   "outputs": [
    {
     "name": "stdout",
     "output_type": "stream",
     "text": [
      "Adding 100000 items to linked list took: 0.387714147567749\n",
      "Adding 100000 items to linked list took: 1.4512066841125488\n"
     ]
    }
   ],
   "source": [
    "from time import time\n",
    "\n",
    "class Node:\n",
    "  def __init__(self, value, next_=None):\n",
    "    self.value = value\n",
    "    self.next = next_\n",
    "\n",
    "class LinkedList:\n",
    "  def __init__(self):\n",
    "    self.head = None\n",
    "  \n",
    "  def insert(self, value):\n",
    "    self.head = Node(value, self.head)\n",
    "\n",
    "\n",
    "pylist = []\n",
    "llist = LinkedList()\n",
    "\n",
    "start = time()\n",
    "for i in range(100000):\n",
    "  llist.insert(i)\n",
    "duration = time() - start\n",
    "print(f\"Adding 100000 items to linked list took: {duration}\")\n",
    "\n",
    "start = time()\n",
    "for i in range(100000):\n",
    "  pylist.insert(0,i)\n",
    "duration = time() - start\n",
    "print(f\"Adding 100000 items to linked list took: {duration}\")"
   ]
  }
 ],
 "metadata": {
  "interpreter": {
   "hash": "d43eb182abcd55a9fcd39eacac31aca87e6e7e634cf15987d729d1e2c3765ec3"
  },
  "kernelspec": {
   "display_name": "Python 3.9.7 64-bit ('.venv': poetry)",
   "name": "python3"
  },
  "language_info": {
   "codemirror_mode": {
    "name": "ipython",
    "version": 3
   },
   "file_extension": ".py",
   "mimetype": "text/x-python",
   "name": "python",
   "nbconvert_exporter": "python",
   "pygments_lexer": "ipython3",
   "version": "3.9.7"
  },
  "orig_nbformat": 4
 },
 "nbformat": 4,
 "nbformat_minor": 2
}
