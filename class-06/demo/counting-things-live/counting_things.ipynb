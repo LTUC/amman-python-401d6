{
 "cells": [
  {
   "cell_type": "code",
   "execution_count": 1,
   "metadata": {},
   "outputs": [],
   "source": [
    "fruits = [\"apple\",\"banana\",\"orange\",\"apple\",\"banana\",\"apple\"]"
   ]
  },
  {
   "cell_type": "code",
   "execution_count": 3,
   "metadata": {},
   "outputs": [
    {
     "data": {
      "text/plain": [
       "3"
      ]
     },
     "execution_count": 3,
     "metadata": {},
     "output_type": "execute_result"
    }
   ],
   "source": [
    "# loop over list and check if the item is equal to apple\n",
    "# add 1 to a counter i\n",
    "counter = 0\n",
    "for fruit in fruits:\n",
    "  if fruit == 'apple':\n",
    "    counter += 1\n",
    "\n",
    "counter\n",
    "\n",
    "result = fruits.count('apple')\n",
    "result"
   ]
  },
  {
   "cell_type": "code",
   "execution_count": 5,
   "metadata": {},
   "outputs": [
    {
     "name": "stdout",
     "output_type": "stream",
     "text": [
      "{'apple': 3, 'banana': 2, 'orange': 1}\n",
      "apple\n"
     ]
    }
   ],
   "source": [
    "# loop over the list, count the value for each item and then compare\n",
    "fruit_map = {}\n",
    "counter = 0\n",
    "for fruit in fruits: # O(n^2)\n",
    "  # fruit_map[fruit] = fruits.count(fruit) # - Jehad\n",
    "  fruit_map[fruit] = fruit_map.get(fruit,0) + 1\n",
    "  if fruit_map[fruit] > counter:\n",
    "    counter = fruit_map[fruit]\n",
    "    max_fruit = fruit\n",
    "# or using max\n",
    "# for fruit in fruits:\n",
    "#   counter = 0\n",
    "#   for each_fruit in fruits:\n",
    "#     counter += 1\n",
    "#     fruit_list += each_fruit\n",
    "#   fruit_list += counter\n",
    "print(fruit_map)\n",
    "print(max_fruit)"
   ]
  },
  {
   "cell_type": "markdown",
   "metadata": {},
   "source": [
    "# The second most common fruit"
   ]
  },
  {
   "cell_type": "code",
   "execution_count": 12,
   "metadata": {},
   "outputs": [
    {
     "name": "stdout",
     "output_type": "stream",
     "text": [
      "Counter({'apple': 3, 'banana': 2, 'orange': 1})\n"
     ]
    },
    {
     "data": {
      "text/plain": [
       "('orange', 1)"
      ]
     },
     "execution_count": 12,
     "metadata": {},
     "output_type": "execute_result"
    }
   ],
   "source": [
    "from collections import Counter\n",
    "\n",
    "fruit_counter = Counter(fruits)\n",
    "print(fruit_counter)\n",
    "\n",
    "# 2nd most common\n",
    "fruit_counter.most_common()[2]"
   ]
  },
  {
   "cell_type": "code",
   "execution_count": 13,
   "metadata": {},
   "outputs": [
    {
     "data": {
      "text/plain": [
       "'apple'"
      ]
     },
     "execution_count": 13,
     "metadata": {},
     "output_type": "execute_result"
    }
   ],
   "source": [
    "def max_fruit(fruits):\n",
    "  return max(fruits, key=fruits.count)\n",
    "\n",
    "max_fruit(fruits)"
   ]
  }
 ],
 "metadata": {
  "interpreter": {
   "hash": "2c831091d7338b4a1dfc6d9e156ba7b8f6efcc4f025162a2c381a4a4b5ee8d58"
  },
  "kernelspec": {
   "display_name": "Python 3.9.5 64-bit ('.venv': poetry)",
   "name": "python3"
  },
  "language_info": {
   "codemirror_mode": {
    "name": "ipython",
    "version": 3
   },
   "file_extension": ".py",
   "mimetype": "text/x-python",
   "name": "python",
   "nbconvert_exporter": "python",
   "pygments_lexer": "ipython3",
   "version": "3.9.5"
  },
  "orig_nbformat": 4
 },
 "nbformat": 4,
 "nbformat_minor": 2
}
