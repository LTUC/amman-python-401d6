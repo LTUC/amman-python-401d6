{
 "cells": [
  {
   "cell_type": "code",
   "execution_count": 12,
   "metadata": {},
   "outputs": [],
   "source": [
    "import numpy as np\n",
    "import matplotlib.pyplot as plt"
   ]
  },
  {
   "cell_type": "code",
   "execution_count": 13,
   "metadata": {},
   "outputs": [
    {
     "output_type": "execute_result",
     "data": {
      "text/plain": [
       "array([[ 2.5, 21. ],\n",
       "       [ 5.1, 47. ],\n",
       "       [ 3.2, 27. ],\n",
       "       [ 8.5, 75. ],\n",
       "       [ 3.5, 30. ],\n",
       "       [ 1.5, 20. ],\n",
       "       [ 9.2, 88. ],\n",
       "       [ 5.5, 60. ],\n",
       "       [ 8.3, 81. ],\n",
       "       [ 2.7, 25. ],\n",
       "       [ 7.7, 85. ],\n",
       "       [ 5.9, 62. ],\n",
       "       [ 4.5, 41. ],\n",
       "       [ 3.3, 42. ],\n",
       "       [ 1.1, 17. ],\n",
       "       [ 8.9, 95. ],\n",
       "       [ 2.5, 30. ],\n",
       "       [ 1.9, 24. ],\n",
       "       [ 6.1, 67. ],\n",
       "       [ 7.4, 69. ],\n",
       "       [ 2.7, 30. ],\n",
       "       [ 4.8, 54. ],\n",
       "       [ 3.8, 35. ],\n",
       "       [ 6.9, 76. ],\n",
       "       [ 7.8, 86. ]])"
      ]
     },
     "metadata": {},
     "execution_count": 13
    }
   ],
   "source": [
    "student_hours_and_scores = np.genfromtxt('./student_scores.csv',delimiter=',', skip_header=True)\n",
    "student_hours_and_scores\n"
   ]
  },
  {
   "cell_type": "code",
   "execution_count": 15,
   "metadata": {},
   "outputs": [
    {
     "output_type": "stream",
     "name": "stdout",
     "text": [
      "[2.5 5.1 3.2 8.5 3.5 1.5 9.2 5.5 8.3 2.7 7.7 5.9 4.5 3.3 1.1 8.9 2.5 1.9\n 6.1 7.4 2.7 4.8 3.8 6.9 7.8]\n5.012\n51.48\n"
     ]
    }
   ],
   "source": [
    "hours_studied = student_hours_and_scores[:,0]\n",
    "print(hours_studied)\n",
    "test_scores = student_hours_and_scores[:,1]\n",
    "print(np.mean(hours_studied))\n",
    "print(np.mean(test_scores))\n"
   ]
  },
  {
   "cell_type": "code",
   "execution_count": 16,
   "metadata": {},
   "outputs": [
    {
     "output_type": "execute_result",
     "data": {
      "text/plain": [
       "array([5.1, 8.5, 9.2, 5.5, 8.3, 7.7, 5.9, 8.9, 6.1, 7.4, 6.9, 7.8])"
      ]
     },
     "metadata": {},
     "execution_count": 16
    }
   ],
   "source": [
    "above_average_studiers = hours_studied > np.mean(hours_studied)\n",
    "hours_studied[above_average_studiers]"
   ]
  },
  {
   "cell_type": "code",
   "execution_count": null,
   "metadata": {},
   "outputs": [],
   "source": []
  }
 ],
 "metadata": {
  "kernelspec": {
   "display_name": "Python 3",
   "language": "python",
   "name": "python3"
  },
  "language_info": {
   "codemirror_mode": {
    "name": "ipython",
    "version": 3
   },
   "file_extension": ".py",
   "mimetype": "text/x-python",
   "name": "python",
   "nbconvert_exporter": "python",
   "pygments_lexer": "ipython3",
   "version": "3.9.0-final"
  }
 },
 "nbformat": 4,
 "nbformat_minor": 4
}