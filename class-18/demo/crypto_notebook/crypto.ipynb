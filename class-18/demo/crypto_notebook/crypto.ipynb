{
 "cells": [
  {
   "cell_type": "code",
   "execution_count": 13,
   "metadata": {},
   "outputs": [
    {
     "name": "stdout",
     "output_type": "stream",
     "text": [
      "0000 0\n",
      "1111 1\n",
      "2222 2\n",
      "3333 3\n",
      "4444 4\n",
      "5555 5\n",
      "6666 6\n",
      "7777 7\n",
      "8888 8\n",
      "9999 9\n",
      "0000 10\n",
      "1111 11\n",
      "2222 12\n",
      "3333 13\n",
      "4444 14\n",
      "5555 15\n",
      "6666 16\n",
      "7777 17\n",
      "8888 18\n",
      "9999 19\n",
      "0000 20\n"
     ]
    }
   ],
   "source": [
    "def encrypt(m, k):\n",
    "    cipher = \"\"\n",
    "    for char in m:\n",
    "        char_num = int(char)\n",
    "        shifted_num = char_num + k\n",
    "        mod_num = shifted_num % 10\n",
    "        cipher += str(mod_num)\n",
    "    return cipher\n",
    "\n",
    "def decrypt(c, k):\n",
    "    return encrypt(c, -k)\n",
    "\n",
    "for i in range(21):\n",
    "    print(encrypt(\"0000\", i), i)\n"
   ]
  },
  {
   "cell_type": "code",
   "execution_count": 25,
   "metadata": {},
   "outputs": [
    {
     "name": "stdout",
     "output_type": "stream",
     "text": [
      "UPJL AVWPJ\n",
      "['NICE', 'TOPIC'] 7\n"
     ]
    }
   ],
   "source": [
    "cipher_text = \"UPJL AVWPJ\"\n",
    "print(encrypt(\"Nice Topic\",7))\n",
    "\n",
    "def encrypt(m, k):\n",
    "    offset = 65 # A\n",
    "    words = m.split()\n",
    "    cipher_words = []\n",
    "    for word in words:\n",
    "        cipher = \"\"\n",
    "        for char in word:\n",
    "            char_num = ord(char.upper())\n",
    "            shifted_num = char_num + k - offset\n",
    "            mod_num = shifted_num % 26 + offset\n",
    "            cipher += chr(mod_num)\n",
    "        cipher_words.append(cipher)\n",
    "    return \" \".join(cipher_words)\n",
    "\n",
    "def decrypt(c, k):\n",
    "    return encrypt(c, -k)\n",
    "\n",
    "for i in range(28):\n",
    "    results = decrypt(cipher_text, i).split()\n",
    "    for word in results:\n",
    "        if word == \"Nice\".upper():\n",
    "            print(results, i)"
   ]
  },
  {
   "cell_type": "code",
   "execution_count": 39,
   "metadata": {},
   "outputs": [
    {
     "name": "stdout",
     "output_type": "stream",
     "text": [
      "a dark and stormy night 100.0\n",
      "call me Ishmael 100.0\n",
      "Billy Pilgrim has become unstuck in time 85.71428571428571\n",
      "All happy families are alike; each unhappy family is unhappy in its own way. 92.85714285714286\n",
      "\"Where's Papa going with that ax?\" said Fern to her mother as they were setting the table for breakfast. 94.73684210526315\n"
     ]
    }
   ],
   "source": [
    "import nltk\n",
    "import re\n",
    "\n",
    "nltk.download('words', quiet=True)\n",
    "nltk.download('names', quiet=True)\n",
    "\n",
    "from nltk.corpus import words, names\n",
    "\n",
    "word_list = words.words()\n",
    "name_list = names.words()\n",
    "\n",
    "word_list\n",
    "\n",
    "candidates = [\n",
    "    \"a dark and stormy night\",\n",
    "    \"n qnex naq fgbezl avtug\",\n",
    "    \"j mjat jwm bcxavh wrpqc\",\n",
    "    \"call me Ishmael\",\n",
    "    \"Billy Pilgrim has become unstuck in time\",\n",
    "    \"All happy families are alike; each unhappy family is unhappy in its own way.\",\n",
    "    '\"Where\\'s Papa going with that ax?\" said Fern to her mother as they were setting the table for breakfast.',\n",
    "    \"Off the hizzle fo shizzle\",\n",
    "]\n",
    "\n",
    "def count_words(phrase) -> int:\n",
    "  \"\"\"\n",
    "  Counts the amount of english words in a string\n",
    "  \"\"\"\n",
    "  # split the string into an array\n",
    "  words = phrase.split()\n",
    "  word_count = 0\n",
    "  for word in words:\n",
    "    clean_word = re.sub(r'[^A-Za-z]','',word)\n",
    "    # check if each word is found in either the word list or name\n",
    "    if clean_word.lower() in word_list or clean_word in name_list:\n",
    "      # increment word count\n",
    "      word_count += 1\n",
    "    else:\n",
    "      # print('Not recognized as word or name', word)\n",
    "      pass\n",
    "  # return the length\n",
    "  return word_count\n",
    "\n",
    "for phrase in candidates:\n",
    "  word_count = count_words(phrase)\n",
    "  total_words = len(phrase.split())\n",
    "  ratio =  word_count / total_words\n",
    "\n",
    "  percentage = ratio * 100\n",
    "  threshold = 80\n",
    "  if percentage > threshold:\n",
    "    print(phrase, percentage)\n",
    "\n",
    "\n",
    "\n"
   ]
  },
  {
   "cell_type": "code",
   "execution_count": null,
   "metadata": {},
   "outputs": [],
   "source": []
  },
  {
   "cell_type": "code",
   "execution_count": null,
   "metadata": {},
   "outputs": [],
   "source": []
  },
  {
   "cell_type": "code",
   "execution_count": 32,
   "metadata": {},
   "outputs": [
    {
     "data": {
      "text/plain": [
       "66.66666666666666"
      ]
     },
     "execution_count": 32,
     "metadata": {},
     "output_type": "execute_result"
    }
   ],
   "source": [
    "len(\"call me Ishmael\")\n",
    "len(\"call me Ishmael\".split())\n",
    "\n",
    "(2/3) * 100"
   ]
  }
 ],
 "metadata": {
  "interpreter": {
   "hash": "0b97e2a5eac3e745f547325149ba9cbb405669eea54214480c9f9129a39489cf"
  },
  "kernelspec": {
   "display_name": "Python 3.9.5 64-bit ('.venv': poetry)",
   "name": "python3"
  },
  "language_info": {
   "codemirror_mode": {
    "name": "ipython",
    "version": 3
   },
   "file_extension": ".py",
   "mimetype": "text/x-python",
   "name": "python",
   "nbconvert_exporter": "python",
   "pygments_lexer": "ipython3",
   "version": "3.9.5"
  },
  "orig_nbformat": 4
 },
 "nbformat": 4,
 "nbformat_minor": 2
}
